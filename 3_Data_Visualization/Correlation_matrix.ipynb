{
 "cells": [
  {
   "cell_type": "markdown",
   "metadata": {},
   "source": [
    "## Correlation\n",
    "```py\n",
    "corr = df.corr()\n",
    "mask = np.triu(corr, k=1)\n",
    "plt.figure(figsize=(12,12))\n",
    "sns.heatmap(corr2, annot=True, fmt=\".2f\", cmap=\"coolwarm\", mask=mask)\n",
    "\n",
    "corr=data.corr()\n",
    "corr.style.background_gradient(cmap=\"inferno\")\n",
    "\n",
    "\n",
    "```"
   ]
  }
 ],
 "metadata": {
  "language_info": {
   "name": "python"
  },
  "orig_nbformat": 4
 },
 "nbformat": 4,
 "nbformat_minor": 2
}
