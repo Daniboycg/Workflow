{
 "cells": [
  {
   "cell_type": "markdown",
   "metadata": {},
   "source": [
    "### Plotting features \n",
    "```py\n",
    "def plot_features(df, features):\n",
    "    # Calcula el número de filas necesarias en función del número de características\n",
    "    n = len(features)\n",
    "    nrows = n // 3 + (n % 3 > 0)  # Divide en filas de 3 subplots\n",
    "    fig, axes = plt.subplots(nrows=nrows, ncols=3, figsize=(15, 5 * nrows))\n",
    "    \n",
    "    for i, feature in enumerate(features):\n",
    "        row = i // 3  # Calcula la fila actual\n",
    "        col = i % 3   # Calcula la columna actual\n",
    "        \n",
    "        # Crea un subplot en la fila y columna correspondientes\n",
    "        ax = axes[row, col]\n",
    "        \n",
    "        # Genera un gráfico de Seaborn para la característica actual\n",
    "        sns.histplot(data=df, x=feature, ax=ax, kde=True)\n",
    "        ax.set_title(f'Distribución de {feature}')\n",
    "    \n",
    "    # Elimina los subplots vacíos si n no es múltiplo de 3\n",
    "    for i in range(n, nrows * 3):\n",
    "        fig.delaxes(axes.flatten()[i])\n",
    "    \n",
    "    # Ajusta automáticamente el espaciado entre subplots\n",
    "    plt.tight_layout()\n",
    "    \n",
    "    # Muestra la figura\n",
    "    plt.show()\n",
    "\n",
    "# Ejemplo de uso:\n",
    "# Supongamos que tienes un DataFrame llamado \"df\" y una lista de características \"features\"\n",
    "# plot_features(df, features)\n",
    "```"
   ]
  },
  {
   "cell_type": "markdown",
   "metadata": {},
   "source": []
  }
 ],
 "metadata": {
  "language_info": {
   "name": "python"
  },
  "orig_nbformat": 4
 },
 "nbformat": 4,
 "nbformat_minor": 2
}
