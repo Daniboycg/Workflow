{
 "cells": [
  {
   "cell_type": "markdown",
   "metadata": {},
   "source": [
    "```py\n",
    "8. import matplotlib.pyplot as plt\n",
    "9. import seaborn as sns\n",
    "10. sns.histplot(df['columna'])\n",
    "11. sns.boxplot(x='columna_x', y='columna_y', data=df)\n",
    "12. sns.pairplot(df)\n",
    "13. plt.figure(figsize=(10, 6))\n",
    "14. plt.bar(x, height)\n",
    "15. plt.scatter(x, y)\n",
    "16. plt.plot(x, y)\n",
    "17. sns.heatmap(data.corr(), annot=True, cmap='coolwarm')\n",
    "```"
   ]
  },
  {
   "cell_type": "markdown",
   "metadata": {},
   "source": []
  }
 ],
 "metadata": {
  "language_info": {
   "name": "python"
  },
  "orig_nbformat": 4
 },
 "nbformat": 4,
 "nbformat_minor": 2
}
