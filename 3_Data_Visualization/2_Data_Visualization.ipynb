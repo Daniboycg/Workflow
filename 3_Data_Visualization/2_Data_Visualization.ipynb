{
 "cells": [
  {
   "cell_type": "markdown",
   "metadata": {},
   "source": [
    "```py\n",
    "import matplotlib.pyplot as plt\n",
    "import seaborn as sns\n",
    "sns.set_palette('viridis')\n",
    "plt.style.use('fivethirtyeight')\n",
    "```"
   ]
  },
  {
   "cell_type": "markdown",
   "metadata": {},
   "source": [
    "\n",
    "```py\n",
    "# Qualitative palettes, good for representing categorical data\n",
    "sns.set_palette(\"hls\", 8)\n",
    "sns.set_palette('bright')\n",
    "sns.set_palette('tab10')\n",
    "\n",
    "# Sequential palettes, good for representing numeric data\n",
    "sns.set_palette('viridis')\n",
    "sns.set_palette('cubehelix')\n",
    "sns.set_palette('inferno')\n",
    "\n",
    "\n",
    "```"
   ]
  },
  {
   "cell_type": "code",
   "execution_count": null,
   "metadata": {
    "vscode": {
     "languageId": "plaintext"
    }
   },
   "outputs": [],
   "source": []
  },
  {
   "cell_type": "markdown",
   "metadata": {},
   "source": [
    "```py\n",
    "1. sns.histplot(df['columna'])\n",
    "2. sns.boxplot(x='columna_x', y='columna_y', data=df)\n",
    "3. sns.pairplot(df)\n",
    "4. plt.figure(figsize=(10, 6))\n",
    "5. plt.bar(x, height)\n",
    "6. plt.scatter(x, y)\n",
    "7. plt.plot(x, y)\n",
    "8. sns.heatmap(data.corr(), annot=True, cmap='coolwarm')\n",
    "```"
   ]
  },
  {
   "cell_type": "markdown",
   "metadata": {},
   "source": []
  },
  {
   "cell_type": "markdown",
   "metadata": {},
   "source": []
  }
 ],
 "metadata": {
  "language_info": {
   "name": "python"
  },
  "orig_nbformat": 4
 },
 "nbformat": 4,
 "nbformat_minor": 2
}
