{
 "cells": [
  {
   "cell_type": "markdown",
   "metadata": {},
   "source": [
    "```py\n",
    "import matplotlib.pyplot as plt\n",
    "import seaborn as sns\n",
    "sns.set_palette('viridis')\n",
    "plt.style.use('fivethirtyeight')\n",
    "```"
   ]
  },
  {
   "cell_type": "markdown",
   "metadata": {},
   "source": [
    "```py\n",
    "# Qualitative palettes, good for representing categorical data\n",
    "sns.set_palette(\"hls\", 8)\n",
    "sns.set_palette('bright')\n",
    "sns.set_palette('tab10')\n",
    "\n",
    "# Sequential palettes, good for representing numeric data\n",
    "sns.set_palette('viridis')\n",
    "sns.set_palette('cubehelix')\n",
    "sns.set_palette('inferno')\n",
    "\n",
    "\n",
    "```"
   ]
  }
 ],
 "metadata": {
  "language_info": {
   "name": "python"
  },
  "orig_nbformat": 4
 },
 "nbformat": 4,
 "nbformat_minor": 2
}
