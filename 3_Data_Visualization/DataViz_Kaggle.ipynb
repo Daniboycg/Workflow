{
 "cells": [
  {
   "cell_type": "markdown",
   "metadata": {},
   "source": [
    "# Line Charts\n",
    "```py\n",
    "# Line chart showing daily global streams of each song \n",
    "sns.lineplot(data=spotify_data)\n",
    "```"
   ]
  },
  {
   "cell_type": "markdown",
   "metadata": {},
   "source": [
    "![Alt text](image.png)"
   ]
  },
  {
   "cell_type": "markdown",
   "metadata": {},
   "source": [
    "## Linear regression\n",
    "```py\n",
    "sns.regplot(x=insurance_data['bmi'], y=insurance_data['charges'])\n",
    "```"
   ]
  },
  {
   "cell_type": "markdown",
   "metadata": {},
   "source": [
    "To further emphasize this fact, we can use the sns.lmplot command to add two regression lines, corresponding to smokers and nonsmokers. (You'll notice that the regression line for smokers has a much steeper slope, relative to the line for nonsmokers!)\n",
    "```py\n",
    "sns.lmplot(x=\"bmi\", y=\"charges\", hue=\"smoker\", data=insurance_data)\n",
    "```\n",
    "\n",
    "### Swarmplot\n",
    "```py\n",
    "sns.swarmplot(x=insurance_data['smoker'],\n",
    "              y=insurance_data['charges'])\n",
    "```"
   ]
  },
  {
   "cell_type": "markdown",
   "metadata": {},
   "source": []
  }
 ],
 "metadata": {
  "language_info": {
   "name": "python"
  },
  "orig_nbformat": 4
 },
 "nbformat": 4,
 "nbformat_minor": 2
}
