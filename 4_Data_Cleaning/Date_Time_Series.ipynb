{
 "cells": [
  {
   "cell_type": "markdown",
   "metadata": {},
   "source": [
    "# Convert to datetime series"
   ]
  },
  {
   "cell_type": "code",
   "execution_count": null,
   "metadata": {},
   "outputs": [],
   "source": [
    "# This is the method you will use if the column is in the right format.\n",
    "df['Date'] = pd.to_datetime(df['Date'])"
   ]
  },
  {
   "cell_type": "markdown",
   "metadata": {},
   "source": [
    "> If you want to pass the column to a datetime series without doing converions later on:"
   ]
  },
  {
   "cell_type": "code",
   "execution_count": null,
   "metadata": {},
   "outputs": [],
   "source": [
    "'''To ChatGPT prompt:\n",
    "What I want to do, it's convert to a datetime series a specific column from the csv method\n",
    "I will give you my actual column date format, you will read it, and put the format in \n",
    "the \"Format_of_your_actual_date_column\" string, then you will complete the rest.\n",
    "'''\n",
    "d_parser = lambda x: pd.datetime.strptime(x, 'Format_of_your_actual_date_column')\n",
    "df = pd.read_csv('filename.csv', parse_dates=['column_name'], date_parser=d_parser)"
   ]
  },
  {
   "cell_type": "markdown",
   "metadata": {},
   "source": [
    "> Or, if you want to convert it inside the code:"
   ]
  },
  {
   "cell_type": "code",
   "execution_count": null,
   "metadata": {},
   "outputs": [],
   "source": [
    "\n",
    "'''To ChatGPT prompt\n",
    "Give me the python format datetime for the next text: 'format'\n",
    "'''\n",
    "df['col'] = pd.to_datetime(df['col'], format='format')"
   ]
  },
  {
   "cell_type": "markdown",
   "metadata": {},
   "source": [
    "## DT class\n",
    "If you want to return a Series object, with the dt class, is very similar as working with str class for a specific string:"
   ]
  },
  {
   "cell_type": "markdown",
   "metadata": {},
   "source": [
    "- `pd.to_datetime()`: Converts a column or Series to datetime format.\n",
    "\n",
    "- `dt.date`: Extracts the date portion of a datetime Series.\n",
    "\n",
    "- `dt.time`: Extracts the time portion of a datetime Series.\n",
    "\n",
    "- `dt.year`: Extracts the year from a datetime Series.\n",
    "\n",
    "- `dt.month`: Extracts the month from a datetime Series.\n",
    "\n",
    "- `dt.day`: Extracts the day of the month from a datetime Series.\n",
    "\n",
    "- `dt.hour`: Extracts the hour from a datetime Series.\n",
    "\n",
    "- `dt.minute`: Extracts the minute from a datetime Series.\n",
    "\n",
    "- `dt.second`: Extracts the second from a datetime Series.\n",
    "\n",
    "- `dt.dayofweek`: Extracts the day of the week as an integer (Monday=0, Sunday=6).\n",
    "\n",
    "- `dt.day_name()`: Extracts the day of the week as a string (e.g., \"Monday\").\n",
    "\n",
    "- `dt.strftime()`: Formats datetime values as strings using a specified format.\n",
    "\n",
    "- `pd.date_range()`: Generates a date range as a DatetimeIndex.\n",
    "\n",
    "- `pd.to_timedelta()`: Converts a timedelta-like object to a Timedelta type.\n",
    "\n",
    "- `df.resample()`: Aggregates or resamples time series data. ('M'/ 'W'/ 'D'/ 'H'/ 'T'/ 'S'/ 'L')\n",
    "\n",
    "- `df.shift()`: Shifts the values in a Series forward or backward in time.\n",
    "\n",
    "- `df.rolling()`: Performs rolling window calculations on time series data.\n"
   ]
  },
  {
   "cell_type": "markdown",
   "metadata": {},
   "source": [
    "### Earliest and Latest dates:\n",
    "- `df['Date'].max()` Latest date\n",
    "- `df['Date'].min()` Earliest date\n"
   ]
  },
  {
   "cell_type": "markdown",
   "metadata": {},
   "source": [
    "### We can even apply filters!\n",
    "`filt = (df['Date'] >2020 & df['Date] < 2023)`"
   ]
  },
  {
   "cell_type": "code",
   "execution_count": null,
   "metadata": {},
   "outputs": [],
   "source": [
    "# Example:\n",
    "filt = (df['Date'] >= pd.to_datetime('2020-01-01') & df['Date'] < pd.to_datetime('2023-01-01'))"
   ]
  },
  {
   "cell_type": "markdown",
   "metadata": {},
   "source": [
    "### You can set it as index, and grab the year, month or day from there\n",
    "`df.set_index('Date', inplace=True)`  \n",
    "  `df['2023']`"
   ]
  },
  {
   "cell_type": "markdown",
   "metadata": {},
   "source": []
  }
 ],
 "metadata": {
  "language_info": {
   "name": "python"
  },
  "orig_nbformat": 4
 },
 "nbformat": 4,
 "nbformat_minor": 2
}
