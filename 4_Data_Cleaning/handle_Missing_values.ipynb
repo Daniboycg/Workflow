{
 "cells": [
  {
   "cell_type": "code",
   "execution_count": null,
   "metadata": {},
   "outputs": [],
   "source": [
    "# dropear los rows con respecto a los valores nulos de una columna especifica\n",
    "rows_with_missingvalues = ['col1','col2','col3']\n",
    "df.dropna(subset=rows_with_missingvalues)"
   ]
  },
  {
   "cell_type": "code",
   "execution_count": null,
   "metadata": {},
   "outputs": [],
   "source": [
    "# Fillna()\n",
    "df['col'] = df['col'].fillna(df['col'].median())"
   ]
  }
 ],
 "metadata": {
  "language_info": {
   "name": "python"
  },
  "orig_nbformat": 4
 },
 "nbformat": 4,
 "nbformat_minor": 2
}
