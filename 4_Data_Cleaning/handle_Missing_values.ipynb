{
 "cells": [
  {
   "cell_type": "markdown",
   "metadata": {},
   "source": [
    "### Is this value missing because it wasn't recorded or because it doesn't exist?\n",
    "```py\n",
    "df.isna().sum\n",
    "```"
   ]
  },
  {
   "cell_type": "markdown",
   "metadata": {},
   "source": [
    "```py\n",
    "\n",
    "```"
   ]
  },
  {
   "cell_type": "markdown",
   "metadata": {},
   "source": [
    "# Drop missing values\n",
    "```py\n",
    "# remove all the rows that contain a missing value\n",
    "nfl_data.dropna()\n",
    "```\n",
    "Oh dear, it looks like that's removed all our data! 😱 This is because every row in our dataset had at least one missing value. We might have better luck removing all the columns that have at least one missing value instead.\n",
    "\n",
    "```py\n",
    "# dropear los rows con respecto a los valores nulos de una columna especifica\n",
    "rows_with_missingvalues = ['col1','col2','col3']\n",
    "df.dropna(subset=rows_with_missingvalues)\n",
    "```"
   ]
  },
  {
   "cell_type": "markdown",
   "metadata": {},
   "source": [
    "# Fillna\n",
    "```py\n",
    "#Replace with the median, mean or some agg function.\n",
    "df['col'] = df['col'].fillna(df['col'].median())\n",
    "\n",
    "# Replace with specific values\n",
    "subset_nfl_data.fillna(0)\n",
    "\n",
    "# Try replacing all the NaN's in the sf_permits data with the one that comes directly after it\n",
    "df = df.fillna(method='bfill', axis=0)\n",
    "```"
   ]
  },
  {
   "cell_type": "markdown",
   "metadata": {},
   "source": []
  }
 ],
 "metadata": {
  "language_info": {
   "name": "python"
  },
  "orig_nbformat": 4
 },
 "nbformat": 4,
 "nbformat_minor": 2
}
