{
 "cells": [
  {
   "cell_type": "markdown",
   "metadata": {},
   "source": [
    "> Is this value missing because it wasn't recorded or because it doesn't exist?\n",
    "\n"
   ]
  },
  {
   "cell_type": "markdown",
   "metadata": {},
   "source": [
    "### Count the overall missing values in the df\n",
    "`df.isna().sum`"
   ]
  },
  {
   "cell_type": "markdown",
   "metadata": {},
   "source": [
    "# Drop missing values\n",
    "```py\n",
    "# remove all the rows that contain a missing value\n",
    "df.dropna()\n",
    "```\n",
    "\n",
    "```py\n",
    "# remove rows with missing values respect specific columns\n",
    "df.dropna(subset=['col1','col2','col3'])\n",
    "```"
   ]
  },
  {
   "cell_type": "markdown",
   "metadata": {},
   "source": [
    "# Fillna\n",
    "```py\n",
    "#Replace with the median, mean or some agg function.\n",
    "df['col'] = df['col'].fillna(df['col'].median())\n",
    "\n",
    "# Replace with specific values\n",
    "subset_nfl_data.fillna(0)\n",
    "\n",
    "# Try replacing all the NaN's in the sf_permits data with the one that comes directly after it\n",
    "df = df.fillna(method='bfill', axis=0)\n",
    "```"
   ]
  },
  {
   "cell_type": "markdown",
   "metadata": {},
   "source": []
  }
 ],
 "metadata": {
  "language_info": {
   "name": "python"
  },
  "orig_nbformat": 4
 },
 "nbformat": 4,
 "nbformat_minor": 2
}
