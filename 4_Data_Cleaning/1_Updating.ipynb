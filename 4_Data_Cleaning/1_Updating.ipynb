{
 "cells": [
  {
   "cell_type": "markdown",
   "metadata": {},
   "source": [
    "## Update columns\n",
    "```py\n",
    "df.columns = df.columns.str.replace(\" \",\"\")\n",
    "df.rename(columns={\"col1_name\":\"new_name\", \"col4_name\":\"col4_new_name\"})\n",
    "```"
   ]
  },
  {
   "cell_type": "markdown",
   "metadata": {},
   "source": [
    "## Update multiple rows\n",
    "```py\n",
    "# Apply\n",
    "df['specific_col'].apply(function)\n",
    "\n",
    "# Applymap --> to the entire df\n",
    "df.applymap(function)\n",
    "\n",
    "# Map --> substitute each value to another\n",
    "df['specific_col'].map({'Yes':True, 'No':False}\n",
    "# or...\n",
    "df['specific_col'].apply(lambda x: True if x==\"Yes\" else False)\n",
    ")\n",
    "```\n"
   ]
  },
  {
   "cell_type": "markdown",
   "metadata": {},
   "source": []
  }
 ],
 "metadata": {
  "language_info": {
   "name": "python"
  },
  "orig_nbformat": 4
 },
 "nbformat": 4,
 "nbformat_minor": 2
}
