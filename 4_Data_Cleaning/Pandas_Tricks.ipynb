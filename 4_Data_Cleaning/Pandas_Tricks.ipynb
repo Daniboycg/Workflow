{
 "cells": [
  {
   "cell_type": "markdown",
   "metadata": {},
   "source": [
    "### * Select columns by Datatypes\n",
    "```py\n",
    "select_dtypes(include='number')\n",
    "select_dtypes(include='object')\n",
    "```"
   ]
  },
  {
   "cell_type": "markdown",
   "metadata": {},
   "source": [
    "### * Convert strings to numbers\n",
    "```py\n",
    "pd.to_numeric(df['col'], errors='coerce')\n",
    "```"
   ]
  },
  {
   "cell_type": "markdown",
   "metadata": {},
   "source": [
    "### * Filter a df by largest categories\n",
    "```py\n",
    "filt = df['col'].value_counts().nlargest().index\n",
    "df.loc[df['col'].isin(filt)]\n",
    "```"
   ]
  },
  {
   "cell_type": "markdown",
   "metadata": {},
   "source": [
    "### * Convert continuous data into categorical\n",
    "```py\n",
    "pd.cut(\n",
    "    df['col'], bins=[0,18,25,99], \n",
    "    labels = ['child','young adult','adult])\n",
    "```"
   ]
  },
  {
   "cell_type": "markdown",
   "metadata": {},
   "source": [
    "### * How to change a specific repeated row?\n",
    "```py\n",
    "df['col'] = df['col'].apply(lambda x: 'USA' if x==\"United States\" else x)\n",
    "```"
   ]
  },
  {
   "cell_type": "markdown",
   "metadata": {},
   "source": [
    "```py\n",
    "# remove trailing white spaces\n",
    "professors['Country'] = professors['Country'].str.strip()\n",
    "```"
   ]
  },
  {
   "cell_type": "markdown",
   "metadata": {},
   "source": []
  }
 ],
 "metadata": {
  "language_info": {
   "name": "python"
  },
  "orig_nbformat": 4
 },
 "nbformat": 4,
 "nbformat_minor": 2
}
