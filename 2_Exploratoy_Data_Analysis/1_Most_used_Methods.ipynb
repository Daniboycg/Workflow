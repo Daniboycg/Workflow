{
 "cells": [
  {
   "cell_type": "markdown",
   "metadata": {},
   "source": [
    "## Set Up\n",
    "```py\n",
    "import numpy as np\n",
    "import pandas as pd\n",
    "pd.set_option('display.max_columns', 30)\n",
    "pd.set_option('display.max_rows', 30)\n",
    "pd.options.display.float_format=\"{:,.2f}\".format\n",
    "```\n",
    "## Importing the data and quick EDA\n",
    "```py\n",
    "df = pd.read_csv('path')\n",
    "df.head(15)\n",
    "df.info()\n",
    "df.describe()\n",
    "df.shape\n",
    "df['specific_col'].value_counts(normalize=True) # -> to count them by percentage\n",
    "\n",
    "# Reduce df size:\n",
    "pd.read_csv('path', usecols='selected_cols')\n",
    "```"
   ]
  },
  {
   "cell_type": "markdown",
   "metadata": {},
   "source": [
    "```py\n",
    "\n",
    "```"
   ]
  },
  {
   "cell_type": "markdown",
   "metadata": {},
   "source": [
    "## Filtering using conditionals\n",
    "```py\n",
    "filt = df['col'] == 'retrieve a boolean list'\n",
    "df.loc[filt]\n",
    "\n",
    "# To select some values in a list \n",
    "ls = ['V1','V2','V3','V4']\n",
    "filt = df['col'].isin(ls)\n",
    "\n",
    "# Search a specific string in a specific column\n",
    "filt = df['specific_col'].str.contains(\"the_string\", na=False)\n",
    "```"
   ]
  },
  {
   "cell_type": "markdown",
   "metadata": {},
   "source": [
    "## Query\n",
    "```py\n",
    "# query()\n",
    "days = ['Sat','Sun']\n",
    "df.query(\"Sex == 'Male' & day==@days\") #--> with \"@\" you can pass a variable into the query function\n",
    "```"
   ]
  },
  {
   "cell_type": "markdown",
   "metadata": {},
   "source": []
  }
 ],
 "metadata": {
  "language_info": {
   "name": "python"
  },
  "orig_nbformat": 4
 },
 "nbformat": 4,
 "nbformat_minor": 2
}
