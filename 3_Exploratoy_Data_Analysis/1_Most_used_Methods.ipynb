{
 "cells": [
  {
   "cell_type": "markdown",
   "metadata": {},
   "source": [
    "## Importing the data and quick EDA\n",
    "```py\n",
    "import pandas \n",
    "pd.set_option('display.max_columns', 30)\n",
    "pd.set_option('display.max_rows', 30)\n",
    "df = pd.read_csv('path')\n",
    "df.head(15)\n",
    "df.info()\n",
    "df.describe()\n",
    "df.shape\n",
    "df['specific_col'].value_counts(normalize=True) # -> to count them by percentage\n",
    "```"
   ]
  },
  {
   "cell_type": "markdown",
   "metadata": {},
   "source": [
    "```py\n",
    "\n",
    "```"
   ]
  },
  {
   "cell_type": "markdown",
   "metadata": {},
   "source": [
    "## Filtering using conditionals\n",
    "```py\n",
    "filt = df['col'] == 'retrieve a boolean list'\n",
    "df.loc[filt]\n",
    "\n",
    "# To select some values in a list \n",
    "ls = ['V1','V2','V3','V4']\n",
    "filt = df['col'].isin(ls)\n",
    "\n",
    "# Search a specific string in a specific column\n",
    "filt = df['specific_col'].str.contains(\"the_string\", na=False)\n",
    "```"
   ]
  },
  {
   "cell_type": "markdown",
   "metadata": {},
   "source": []
  },
  {
   "cell_type": "markdown",
   "metadata": {},
   "source": []
  }
 ],
 "metadata": {
  "language_info": {
   "name": "python"
  },
  "orig_nbformat": 4
 },
 "nbformat": 4,
 "nbformat_minor": 2
}
